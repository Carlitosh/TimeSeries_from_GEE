{
 "cells": [
  {
   "cell_type": "code",
   "execution_count": 1,
   "metadata": {},
   "outputs": [],
   "source": [
    "import ee\n",
    "ee.Initialize()\n",
    "from datetime import datetime\n",
    "import numpy as np\n",
    "import matplotlib.pyplot as plt\n",
    "import pandas as pd"
   ]
  },
  {
   "cell_type": "code",
   "execution_count": 2,
   "metadata": {},
   "outputs": [],
   "source": [
    "def maskS2clouds(image): \n",
    "    qa = image.select('QA60');\n",
    "    # Bits 10 and 11 are clouds and cirrus, respectively.\n",
    "    cloudBitMask = 1 << 10;\n",
    "    cirrusBitMask = 1 << 11;\n",
    "    #Both flags should be set to zero, indicating clear conditions.\n",
    "    mask = qa.bitwiseAnd(cloudBitMask).eq(0)\n",
    "    mask = mask.bitwiseAnd(cirrusBitMask).eq(0)\n",
    "    return (image.updateMask(mask).divide(10000))"
   ]
  },
  {
   "cell_type": "code",
   "execution_count": 15,
   "metadata": {},
   "outputs": [],
   "source": [
    "#Map the function over one year of data and take the median.\n",
    "#Load Sentinel-2 TOA reflectance data.\n",
    "\n",
    "date1 = ee.Date('2020-01-10')\n",
    "date2 = ee.Date('2020-04-26')\n",
    "\n",
    "\n",
    "#Pre-filter to get less cloudy granules.\n",
    "dataset = ee.ImageCollection('COPERNICUS/S2').filterDate(date1, date2).filter(ee.Filter.lt('CLOUDY_PIXEL_PERCENTAGE', 50)).map(maskS2clouds)"
   ]
  },
  {
   "cell_type": "code",
   "execution_count": 37,
   "metadata": {},
   "outputs": [],
   "source": [
    "#Function to calculate and add an NDVI band\n",
    "def addNDVI(image):\n",
    "    return (image.addBands(image.normalizedDifference(['B8', 'B4'])))\n",
    "\n",
    "\n",
    "#Add NDVI band to image collection\n",
    "S2 = dataset.map(addNDVI);    \n",
    "S2_median=S2.reduce(ee.Reducer.mean())"
   ]
  },
  {
   "cell_type": "code",
   "execution_count": 38,
   "metadata": {},
   "outputs": [
    {
     "name": "stdout",
     "output_type": "stream",
     "text": [
      "                NDVI\n",
      "Dates               \n",
      "2020-01-15  0.832787\n",
      "2020-01-20  0.678169\n",
      "2020-01-25  0.850362\n",
      "2020-01-30  0.855652\n",
      "2020-02-04  0.784026\n",
      "2020-02-14  0.843756\n",
      "2020-02-19  0.804537\n",
      "2020-02-24  0.845034\n",
      "2020-02-29  0.822517\n",
      "2020-03-05  0.774487\n",
      "2020-03-20  0.465477\n",
      "2020-03-30  0.262896\n",
      "2020-04-04  0.252160\n",
      "2020-04-09  0.190497\n",
      "2020-04-14  0.198131\n",
      "2020-04-19  0.189338\n",
      "2020-04-24  0.190242\n"
     ]
    }
   ],
   "source": [
    "point = ee.Geometry.Point(-63.3189,-33.4217) #Longitud - Latitud\n",
    "\n",
    "l = S2.filterBounds(point).getRegion(point, 30).getInfo()\n",
    "\n",
    "out = [dict(zip(l[0], values)) for values in l[1:]]\n",
    "\n",
    "Dates=np.zeros(len(out)).tolist()\n",
    "NDVI=np.zeros(len(out)).tolist()\n",
    "df=pd.DataFrame()\n",
    "\n",
    "for i in range(len(out)):\n",
    "    a=out[i]['id']\n",
    "    b=a.split(sep='_')\n",
    "    b1=b[0]\n",
    "    b2=b1.split(sep='T')\n",
    "    Dates[i]=datetime.strptime(b2[0], \"%Y%m%d\")\n",
    "    NDVI[i]=out[i]['nd']\n",
    "\n",
    "df['Dates'] = Dates\n",
    "df['NDVI']=NDVI\n",
    "df.set_index('Dates', inplace=True)\n",
    "#return(df)\n",
    "print(df)"
   ]
  },
  {
   "cell_type": "code",
   "execution_count": 39,
   "metadata": {},
   "outputs": [
    {
     "data": {
      "text/html": [
       "<div>\n",
       "<style scoped>\n",
       "    .dataframe tbody tr th:only-of-type {\n",
       "        vertical-align: middle;\n",
       "    }\n",
       "\n",
       "    .dataframe tbody tr th {\n",
       "        vertical-align: top;\n",
       "    }\n",
       "\n",
       "    .dataframe thead th {\n",
       "        text-align: right;\n",
       "    }\n",
       "</style>\n",
       "<table border=\"1\" class=\"dataframe\">\n",
       "  <thead>\n",
       "    <tr style=\"text-align: right;\">\n",
       "      <th></th>\n",
       "      <th>NDVI</th>\n",
       "    </tr>\n",
       "    <tr>\n",
       "      <th>Dates</th>\n",
       "      <th></th>\n",
       "    </tr>\n",
       "  </thead>\n",
       "  <tbody>\n",
       "    <tr>\n",
       "      <th>2020-01-15</th>\n",
       "      <td>0.832787</td>\n",
       "    </tr>\n",
       "    <tr>\n",
       "      <th>2020-01-20</th>\n",
       "      <td>0.678169</td>\n",
       "    </tr>\n",
       "    <tr>\n",
       "      <th>2020-01-25</th>\n",
       "      <td>0.850362</td>\n",
       "    </tr>\n",
       "    <tr>\n",
       "      <th>2020-01-30</th>\n",
       "      <td>0.855652</td>\n",
       "    </tr>\n",
       "    <tr>\n",
       "      <th>2020-02-04</th>\n",
       "      <td>0.784026</td>\n",
       "    </tr>\n",
       "    <tr>\n",
       "      <th>2020-02-14</th>\n",
       "      <td>0.843756</td>\n",
       "    </tr>\n",
       "    <tr>\n",
       "      <th>2020-02-19</th>\n",
       "      <td>0.804537</td>\n",
       "    </tr>\n",
       "    <tr>\n",
       "      <th>2020-02-24</th>\n",
       "      <td>0.845034</td>\n",
       "    </tr>\n",
       "    <tr>\n",
       "      <th>2020-02-29</th>\n",
       "      <td>0.822517</td>\n",
       "    </tr>\n",
       "    <tr>\n",
       "      <th>2020-03-05</th>\n",
       "      <td>0.774487</td>\n",
       "    </tr>\n",
       "    <tr>\n",
       "      <th>2020-03-20</th>\n",
       "      <td>0.465477</td>\n",
       "    </tr>\n",
       "    <tr>\n",
       "      <th>2020-03-30</th>\n",
       "      <td>0.262896</td>\n",
       "    </tr>\n",
       "    <tr>\n",
       "      <th>2020-04-04</th>\n",
       "      <td>0.252160</td>\n",
       "    </tr>\n",
       "    <tr>\n",
       "      <th>2020-04-09</th>\n",
       "      <td>0.190497</td>\n",
       "    </tr>\n",
       "    <tr>\n",
       "      <th>2020-04-14</th>\n",
       "      <td>0.198131</td>\n",
       "    </tr>\n",
       "    <tr>\n",
       "      <th>2020-04-19</th>\n",
       "      <td>0.189338</td>\n",
       "    </tr>\n",
       "    <tr>\n",
       "      <th>2020-04-24</th>\n",
       "      <td>0.190242</td>\n",
       "    </tr>\n",
       "  </tbody>\n",
       "</table>\n",
       "</div>"
      ],
      "text/plain": [
       "                NDVI\n",
       "Dates               \n",
       "2020-01-15  0.832787\n",
       "2020-01-20  0.678169\n",
       "2020-01-25  0.850362\n",
       "2020-01-30  0.855652\n",
       "2020-02-04  0.784026\n",
       "2020-02-14  0.843756\n",
       "2020-02-19  0.804537\n",
       "2020-02-24  0.845034\n",
       "2020-02-29  0.822517\n",
       "2020-03-05  0.774487\n",
       "2020-03-20  0.465477\n",
       "2020-03-30  0.262896\n",
       "2020-04-04  0.252160\n",
       "2020-04-09  0.190497\n",
       "2020-04-14  0.198131\n",
       "2020-04-19  0.189338\n",
       "2020-04-24  0.190242"
      ]
     },
     "execution_count": 39,
     "metadata": {},
     "output_type": "execute_result"
    }
   ],
   "source": [
    "df.head(20)"
   ]
  },
  {
   "cell_type": "code",
   "execution_count": 40,
   "metadata": {},
   "outputs": [
    {
     "data": {
      "text/html": [
       "<div>\n",
       "<style scoped>\n",
       "    .dataframe tbody tr th:only-of-type {\n",
       "        vertical-align: middle;\n",
       "    }\n",
       "\n",
       "    .dataframe tbody tr th {\n",
       "        vertical-align: top;\n",
       "    }\n",
       "\n",
       "    .dataframe thead th {\n",
       "        text-align: right;\n",
       "    }\n",
       "</style>\n",
       "<table border=\"1\" class=\"dataframe\">\n",
       "  <thead>\n",
       "    <tr style=\"text-align: right;\">\n",
       "      <th></th>\n",
       "      <th>NDVI</th>\n",
       "    </tr>\n",
       "  </thead>\n",
       "  <tbody>\n",
       "    <tr>\n",
       "      <th>count</th>\n",
       "      <td>17.000000</td>\n",
       "    </tr>\n",
       "    <tr>\n",
       "      <th>mean</th>\n",
       "      <td>0.578827</td>\n",
       "    </tr>\n",
       "    <tr>\n",
       "      <th>std</th>\n",
       "      <td>0.293077</td>\n",
       "    </tr>\n",
       "    <tr>\n",
       "      <th>min</th>\n",
       "      <td>0.189338</td>\n",
       "    </tr>\n",
       "    <tr>\n",
       "      <th>25%</th>\n",
       "      <td>0.252160</td>\n",
       "    </tr>\n",
       "    <tr>\n",
       "      <th>50%</th>\n",
       "      <td>0.774487</td>\n",
       "    </tr>\n",
       "    <tr>\n",
       "      <th>75%</th>\n",
       "      <td>0.832787</td>\n",
       "    </tr>\n",
       "    <tr>\n",
       "      <th>max</th>\n",
       "      <td>0.855652</td>\n",
       "    </tr>\n",
       "  </tbody>\n",
       "</table>\n",
       "</div>"
      ],
      "text/plain": [
       "            NDVI\n",
       "count  17.000000\n",
       "mean    0.578827\n",
       "std     0.293077\n",
       "min     0.189338\n",
       "25%     0.252160\n",
       "50%     0.774487\n",
       "75%     0.832787\n",
       "max     0.855652"
      ]
     },
     "execution_count": 40,
     "metadata": {},
     "output_type": "execute_result"
    }
   ],
   "source": [
    "df.describe()"
   ]
  },
  {
   "cell_type": "code",
   "execution_count": 46,
   "metadata": {},
   "outputs": [
    {
     "data": {
      "text/plain": [
       "<matplotlib.axes._subplots.AxesSubplot at 0x18521be9390>"
      ]
     },
     "execution_count": 46,
     "metadata": {},
     "output_type": "execute_result"
    },
    {
     "data": {
      "image/png": "[encoded data removed]",
      "text/plain": [
       "<Figure size 432x288 with 1 Axes>"
      ]
     },
     "metadata": {
      "needs_background": "light"
     },
     "output_type": "display_data"
    }
   ],
   "source": [
    "df.plot(label='NDVI',markersize=8,marker='.', linestyle='-')"
   ]
  },
  {
   "cell_type": "code",
   "execution_count": null,
   "metadata": {},
   "outputs": [],
   "source": []
  }
 ],
 "metadata": {
  "kernelspec": {
   "display_name": "Python 3",
   "language": "python",
   "name": "python3"
  },
  "language_info": {
   "codemirror_mode": {
    "name": "ipython",
    "version": 3
   },
   "file_extension": ".py",
   "mimetype": "text/x-python",
   "name": "python",
   "nbconvert_exporter": "python",
   "pygments_lexer": "ipython3",
   "version": "3.7.3"
  }
 },
 "nbformat": 4,
 "nbformat_minor": 4
}
