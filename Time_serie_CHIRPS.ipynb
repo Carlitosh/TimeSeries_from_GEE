{
 "cells": [
  {
   "cell_type": "code",
   "execution_count": 2,
   "metadata": {},
   "outputs": [],
   "source": [
    "import ee\n",
    "ee.Initialize()\n",
    "from datetime import datetime\n",
    "import numpy as np\n",
    "import matplotlib.pyplot as plt\n",
    "import pandas as pd"
   ]
  },
  {
   "cell_type": "code",
   "execution_count": 3,
   "metadata": {},
   "outputs": [],
   "source": [
    "#Map the function over one year of data and take the median.\n",
    "#Load Sentinel-2 TOA reflectance data.\n",
    "\n",
    "date1 = ee.Date('2020-01-10')\n",
    "date2 = ee.Date('2020-04-26')\n",
    "\n",
    "#Pre-filter to get less cloudy granules.\n",
    "dataset = ee.ImageCollection('UCSB-CHG/CHIRPS/DAILY').filterDate(date1, date2)"
   ]
  },
  {
   "cell_type": "code",
   "execution_count": 37,
   "metadata": {},
   "outputs": [],
   "source": [
    "CHIRPS_median=dataset.reduce(ee.Reducer.mean())"
   ]
  },
  {
   "cell_type": "code",
   "execution_count": 4,
   "metadata": {},
   "outputs": [],
   "source": [
    "point = ee.Geometry.Point(-63.3189,-33.4217) #Longitud - Latitud"
   ]
  },
  {
   "cell_type": "code",
   "execution_count": 5,
   "metadata": {},
   "outputs": [],
   "source": [
    "l = dataset.filterBounds(point).getRegion(point, 30).getInfo()"
   ]
  },
  {
   "cell_type": "code",
   "execution_count": 6,
   "metadata": {},
   "outputs": [],
   "source": [
    "out = [dict(zip(l[0], values)) for values in l[1:]]"
   ]
  },
  {
   "cell_type": "code",
   "execution_count": 7,
   "metadata": {
    "collapsed": true,
    "jupyter": {
     "outputs_hidden": true
    }
   },
   "outputs": [
    {
     "name": "stdout",
     "output_type": "stream",
     "text": [
      "[{'id': '20200110', 'longitude': -63.31896552679804, 'latitude': -33.42177522990259, 'time': 1578614400000, 'precipitation': 0}, {'id': '20200111', 'longitude': -63.31896552679804, 'latitude': -33.42177522990259, 'time': 1578700800000, 'precipitation': 0}, {'id': '20200112', 'longitude': -63.31896552679804, 'latitude': -33.42177522990259, 'time': 1578787200000, 'precipitation': 22.331579208374023}, {'id': '20200113', 'longitude': -63.31896552679804, 'latitude': -33.42177522990259, 'time': 1578873600000, 'precipitation': 0}, {'id': '20200114', 'longitude': -63.31896552679804, 'latitude': -33.42177522990259, 'time': 1578960000000, 'precipitation': 11.165789604187012}, {'id': '20200115', 'longitude': -63.31896552679804, 'latitude': -33.42177522990259, 'time': 1579046400000, 'precipitation': 11.165789604187012}, {'id': '20200116', 'longitude': -63.31896552679804, 'latitude': -33.42177522990259, 'time': 1579132800000, 'precipitation': 0}, {'id': '20200117', 'longitude': -63.31896552679804, 'latitude': -33.42177522990259, 'time': 1579219200000, 'precipitation': 0}, {'id': '20200118', 'longitude': -63.31896552679804, 'latitude': -33.42177522990259, 'time': 1579305600000, 'precipitation': 0}, {'id': '20200119', 'longitude': -63.31896552679804, 'latitude': -33.42177522990259, 'time': 1579392000000, 'precipitation': 0}, {'id': '20200120', 'longitude': -63.31896552679804, 'latitude': -33.42177522990259, 'time': 1579478400000, 'precipitation': 7.1939897537231445}, {'id': '20200121', 'longitude': -63.31896552679804, 'latitude': -33.42177522990259, 'time': 1579564800000, 'precipitation': 6.965511798858643}, {'id': '20200122', 'longitude': -63.31896552679804, 'latitude': -33.42177522990259, 'time': 1579651200000, 'precipitation': 0}, {'id': '20200123', 'longitude': -63.31896552679804, 'latitude': -33.42177522990259, 'time': 1579737600000, 'precipitation': 0}, {'id': '20200124', 'longitude': -63.31896552679804, 'latitude': -33.42177522990259, 'time': 1579824000000, 'precipitation': 0}, {'id': '20200125', 'longitude': -63.31896552679804, 'latitude': -33.42177522990259, 'time': 1579910400000, 'precipitation': 0}, {'id': '20200126', 'longitude': -63.31896552679804, 'latitude': -33.42177522990259, 'time': 1579996800000, 'precipitation': 0}, {'id': '20200127', 'longitude': -63.31896552679804, 'latitude': -33.42177522990259, 'time': 1580083200000, 'precipitation': 0}, {'id': '20200128', 'longitude': -63.31896552679804, 'latitude': -33.42177522990259, 'time': 1580169600000, 'precipitation': 0}, {'id': '20200129', 'longitude': -63.31896552679804, 'latitude': -33.42177522990259, 'time': 1580256000000, 'precipitation': 11.644282341003418}, {'id': '20200130', 'longitude': -63.31896552679804, 'latitude': -33.42177522990259, 'time': 1580342400000, 'precipitation': 0}, {'id': '20200131', 'longitude': -63.31896552679804, 'latitude': -33.42177522990259, 'time': 1580428800000, 'precipitation': 0}, {'id': '20200201', 'longitude': -63.31896552679804, 'latitude': -33.42177522990259, 'time': 1580515200000, 'precipitation': 0}, {'id': '20200202', 'longitude': -63.31896552679804, 'latitude': -33.42177522990259, 'time': 1580601600000, 'precipitation': 0}, {'id': '20200203', 'longitude': -63.31896552679804, 'latitude': -33.42177522990259, 'time': 1580688000000, 'precipitation': 0}, {'id': '20200204', 'longitude': -63.31896552679804, 'latitude': -33.42177522990259, 'time': 1580774400000, 'precipitation': 10.464651107788086}, {'id': '20200205', 'longitude': -63.31896552679804, 'latitude': -33.42177522990259, 'time': 1580860800000, 'precipitation': 52.323246002197266}, {'id': '20200206', 'longitude': -63.31896552679804, 'latitude': -33.42177522990259, 'time': 1580947200000, 'precipitation': 0}, {'id': '20200207', 'longitude': -63.31896552679804, 'latitude': -33.42177522990259, 'time': 1581033600000, 'precipitation': 0}, {'id': '20200208', 'longitude': -63.31896552679804, 'latitude': -33.42177522990259, 'time': 1581120000000, 'precipitation': 0}, {'id': '20200209', 'longitude': -63.31896552679804, 'latitude': -33.42177522990259, 'time': 1581206400000, 'precipitation': 0}, {'id': '20200210', 'longitude': -63.31896552679804, 'latitude': -33.42177522990259, 'time': 1581292800000, 'precipitation': 0}, {'id': '20200211', 'longitude': -63.31896552679804, 'latitude': -33.42177522990259, 'time': 1581379200000, 'precipitation': 0}, {'id': '20200212', 'longitude': -63.31896552679804, 'latitude': -33.42177522990259, 'time': 1581465600000, 'precipitation': 0}, {'id': '20200213', 'longitude': -63.31896552679804, 'latitude': -33.42177522990259, 'time': 1581552000000, 'precipitation': 0}, {'id': '20200214', 'longitude': -63.31896552679804, 'latitude': -33.42177522990259, 'time': 1581638400000, 'precipitation': 0}, {'id': '20200215', 'longitude': -63.31896552679804, 'latitude': -33.42177522990259, 'time': 1581724800000, 'precipitation': 0}, {'id': '20200216', 'longitude': -63.31896552679804, 'latitude': -33.42177522990259, 'time': 1581811200000, 'precipitation': 0}, {'id': '20200217', 'longitude': -63.31896552679804, 'latitude': -33.42177522990259, 'time': 1581897600000, 'precipitation': 32.873443603515625}, {'id': '20200218', 'longitude': -63.31896552679804, 'latitude': -33.42177522990259, 'time': 1581984000000, 'precipitation': 0}, {'id': '20200219', 'longitude': -63.31896552679804, 'latitude': -33.42177522990259, 'time': 1582070400000, 'precipitation': 0}, {'id': '20200220', 'longitude': -63.31896552679804, 'latitude': -33.42177522990259, 'time': 1582156800000, 'precipitation': 0}, {'id': '20200221', 'longitude': -63.31896552679804, 'latitude': -33.42177522990259, 'time': 1582243200000, 'precipitation': 0}, {'id': '20200222', 'longitude': -63.31896552679804, 'latitude': -33.42177522990259, 'time': 1582329600000, 'precipitation': 0}, {'id': '20200223', 'longitude': -63.31896552679804, 'latitude': -33.42177522990259, 'time': 1582416000000, 'precipitation': 0}, {'id': '20200224', 'longitude': -63.31896552679804, 'latitude': -33.42177522990259, 'time': 1582502400000, 'precipitation': 0}, {'id': '20200225', 'longitude': -63.31896552679804, 'latitude': -33.42177522990259, 'time': 1582588800000, 'precipitation': 8.317431449890137}, {'id': '20200226', 'longitude': -63.31896552679804, 'latitude': -33.42177522990259, 'time': 1582675200000, 'precipitation': 0}, {'id': '20200227', 'longitude': -63.31896552679804, 'latitude': -33.42177522990259, 'time': 1582761600000, 'precipitation': 0}, {'id': '20200228', 'longitude': -63.31896552679804, 'latitude': -33.42177522990259, 'time': 1582848000000, 'precipitation': 0}, {'id': '20200229', 'longitude': -63.31896552679804, 'latitude': -33.42177522990259, 'time': 1582934400000, 'precipitation': 0}, {'id': '20200301', 'longitude': -63.31896552679804, 'latitude': -33.42177522990259, 'time': 1583020800000, 'precipitation': 0}, {'id': '20200302', 'longitude': -63.31896552679804, 'latitude': -33.42177522990259, 'time': 1583107200000, 'precipitation': 0}, {'id': '20200303', 'longitude': -63.31896552679804, 'latitude': -33.42177522990259, 'time': 1583193600000, 'precipitation': 0}, {'id': '20200304', 'longitude': -63.31896552679804, 'latitude': -33.42177522990259, 'time': 1583280000000, 'precipitation': 0}, {'id': '20200305', 'longitude': -63.31896552679804, 'latitude': -33.42177522990259, 'time': 1583366400000, 'precipitation': 0}, {'id': '20200306', 'longitude': -63.31896552679804, 'latitude': -33.42177522990259, 'time': 1583452800000, 'precipitation': 8.265752792358398}, {'id': '20200307', 'longitude': -63.31896552679804, 'latitude': -33.42177522990259, 'time': 1583539200000, 'precipitation': 0}, {'id': '20200308', 'longitude': -63.31896552679804, 'latitude': -33.42177522990259, 'time': 1583625600000, 'precipitation': 0}, {'id': '20200309', 'longitude': -63.31896552679804, 'latitude': -33.42177522990259, 'time': 1583712000000, 'precipitation': 0}, {'id': '20200310', 'longitude': -63.31896552679804, 'latitude': -33.42177522990259, 'time': 1583798400000, 'precipitation': 8.265752792358398}, {'id': '20200311', 'longitude': -63.31896552679804, 'latitude': -33.42177522990259, 'time': 1583884800000, 'precipitation': 15.887456893920898}, {'id': '20200312', 'longitude': -63.31896552679804, 'latitude': -33.42177522990259, 'time': 1583971200000, 'precipitation': 31.774913787841797}, {'id': '20200313', 'longitude': -63.31896552679804, 'latitude': -33.42177522990259, 'time': 1584057600000, 'precipitation': 0}, {'id': '20200314', 'longitude': -63.31896552679804, 'latitude': -33.42177522990259, 'time': 1584144000000, 'precipitation': 0}, {'id': '20200315', 'longitude': -63.31896552679804, 'latitude': -33.42177522990259, 'time': 1584230400000, 'precipitation': 0}, {'id': '20200316', 'longitude': -63.31896552679804, 'latitude': -33.42177522990259, 'time': 1584316800000, 'precipitation': 0}, {'id': '20200317', 'longitude': -63.31896552679804, 'latitude': -33.42177522990259, 'time': 1584403200000, 'precipitation': 18.048736572265625}, {'id': '20200318', 'longitude': -63.31896552679804, 'latitude': -33.42177522990259, 'time': 1584489600000, 'precipitation': 0}, {'id': '20200319', 'longitude': -63.31896552679804, 'latitude': -33.42177522990259, 'time': 1584576000000, 'precipitation': 0}, {'id': '20200320', 'longitude': -63.31896552679804, 'latitude': -33.42177522990259, 'time': 1584662400000, 'precipitation': 0}, {'id': '20200321', 'longitude': -63.31896552679804, 'latitude': -33.42177522990259, 'time': 1584748800000, 'precipitation': 0}, {'id': '20200322', 'longitude': -63.31896552679804, 'latitude': -33.42177522990259, 'time': 1584835200000, 'precipitation': 0}, {'id': '20200323', 'longitude': -63.31896552679804, 'latitude': -33.42177522990259, 'time': 1584921600000, 'precipitation': 0}, {'id': '20200324', 'longitude': -63.31896552679804, 'latitude': -33.42177522990259, 'time': 1585008000000, 'precipitation': 0}, {'id': '20200325', 'longitude': -63.31896552679804, 'latitude': -33.42177522990259, 'time': 1585094400000, 'precipitation': 61.019126892089844}, {'id': '20200326', 'longitude': -63.31896552679804, 'latitude': -33.42177522990259, 'time': 1585180800000, 'precipitation': 0}, {'id': '20200327', 'longitude': -63.31896552679804, 'latitude': -33.42177522990259, 'time': 1585267200000, 'precipitation': 0}, {'id': '20200328', 'longitude': -63.31896552679804, 'latitude': -33.42177522990259, 'time': 1585353600000, 'precipitation': 0}, {'id': '20200329', 'longitude': -63.31896552679804, 'latitude': -33.42177522990259, 'time': 1585440000000, 'precipitation': 0}, {'id': '20200330', 'longitude': -63.31896552679804, 'latitude': -33.42177522990259, 'time': 1585526400000, 'precipitation': 0}, {'id': '20200331', 'longitude': -63.31896552679804, 'latitude': -33.42177522990259, 'time': 1585612800000, 'precipitation': 0}]\n"
     ]
    }
   ],
   "source": [
    "print(out)"
   ]
  },
  {
   "cell_type": "code",
   "execution_count": 8,
   "metadata": {},
   "outputs": [],
   "source": [
    "Dates=np.zeros(len(out)).tolist()\n",
    "PP=np.zeros(len(out)).tolist()\n",
    "df=pd.DataFrame()"
   ]
  },
  {
   "cell_type": "code",
   "execution_count": 19,
   "metadata": {},
   "outputs": [],
   "source": [
    "for i in range(len(out)):\n",
    "    a=out[i]['id']\n",
    "    b=a.split(sep='_')\n",
    "    b1=b[0]\n",
    "    b2=b1.split(sep='T')\n",
    "    Dates[i]=datetime.strptime(b2[0], \"%Y%m%d\")\n",
    "    PP[i]=out[i]['precipitation']\n"
   ]
  },
  {
   "cell_type": "code",
   "execution_count": 21,
   "metadata": {},
   "outputs": [
    {
     "name": "stdout",
     "output_type": "stream",
     "text": [
      "                   PP\n",
      "Dates                \n",
      "2020-01-10   0.000000\n",
      "2020-01-11   0.000000\n",
      "2020-01-12  22.331579\n",
      "2020-01-13   0.000000\n",
      "2020-01-14  11.165790\n",
      "2020-01-15  11.165790\n",
      "2020-01-16   0.000000\n",
      "2020-01-17   0.000000\n",
      "2020-01-18   0.000000\n",
      "2020-01-19   0.000000\n",
      "2020-01-20   7.193990\n",
      "2020-01-21   6.965512\n",
      "2020-01-22   0.000000\n",
      "2020-01-23   0.000000\n",
      "2020-01-24   0.000000\n",
      "2020-01-25   0.000000\n",
      "2020-01-26   0.000000\n",
      "2020-01-27   0.000000\n",
      "2020-01-28   0.000000\n",
      "2020-01-29  11.644282\n",
      "2020-01-30   0.000000\n",
      "2020-01-31   0.000000\n",
      "2020-02-01   0.000000\n",
      "2020-02-02   0.000000\n",
      "2020-02-03   0.000000\n",
      "2020-02-04  10.464651\n",
      "2020-02-05  52.323246\n",
      "2020-02-06   0.000000\n",
      "2020-02-07   0.000000\n",
      "2020-02-08   0.000000\n",
      "...               ...\n",
      "2020-03-02   0.000000\n",
      "2020-03-03   0.000000\n",
      "2020-03-04   0.000000\n",
      "2020-03-05   0.000000\n",
      "2020-03-06   8.265753\n",
      "2020-03-07   0.000000\n",
      "2020-03-08   0.000000\n",
      "2020-03-09   0.000000\n",
      "2020-03-10   8.265753\n",
      "2020-03-11  15.887457\n",
      "2020-03-12  31.774914\n",
      "2020-03-13   0.000000\n",
      "2020-03-14   0.000000\n",
      "2020-03-15   0.000000\n",
      "2020-03-16   0.000000\n",
      "2020-03-17  18.048737\n",
      "2020-03-18   0.000000\n",
      "2020-03-19   0.000000\n",
      "2020-03-20   0.000000\n",
      "2020-03-21   0.000000\n",
      "2020-03-22   0.000000\n",
      "2020-03-23   0.000000\n",
      "2020-03-24   0.000000\n",
      "2020-03-25  61.019127\n",
      "2020-03-26   0.000000\n",
      "2020-03-27   0.000000\n",
      "2020-03-28   0.000000\n",
      "2020-03-29   0.000000\n",
      "2020-03-30   0.000000\n",
      "2020-03-31   0.000000\n",
      "\n",
      "[82 rows x 1 columns]\n"
     ]
    }
   ],
   "source": [
    "df['Dates'] = Dates\n",
    "df['PP']= PP\n",
    "df.set_index('Dates', inplace=True)\n",
    "#return(df)\n",
    "print(df)"
   ]
  },
  {
   "cell_type": "code",
   "execution_count": null,
   "metadata": {},
   "outputs": [],
   "source": []
  },
  {
   "cell_type": "code",
   "execution_count": 12,
   "metadata": {},
   "outputs": [
    {
     "data": {
      "text/html": [
       "<div>\n",
       "<style scoped>\n",
       "    .dataframe tbody tr th:only-of-type {\n",
       "        vertical-align: middle;\n",
       "    }\n",
       "\n",
       "    .dataframe tbody tr th {\n",
       "        vertical-align: top;\n",
       "    }\n",
       "\n",
       "    .dataframe thead th {\n",
       "        text-align: right;\n",
       "    }\n",
       "</style>\n",
       "<table border=\"1\" class=\"dataframe\">\n",
       "  <thead>\n",
       "    <tr style=\"text-align: right;\">\n",
       "      <th></th>\n",
       "      <th>PP</th>\n",
       "    </tr>\n",
       "    <tr>\n",
       "      <th>Dates</th>\n",
       "      <th></th>\n",
       "    </tr>\n",
       "  </thead>\n",
       "  <tbody>\n",
       "    <tr>\n",
       "      <th>2020-01-10</th>\n",
       "      <td>0.000000</td>\n",
       "    </tr>\n",
       "    <tr>\n",
       "      <th>2020-01-11</th>\n",
       "      <td>0.000000</td>\n",
       "    </tr>\n",
       "    <tr>\n",
       "      <th>2020-01-12</th>\n",
       "      <td>22.331579</td>\n",
       "    </tr>\n",
       "    <tr>\n",
       "      <th>2020-01-13</th>\n",
       "      <td>0.000000</td>\n",
       "    </tr>\n",
       "    <tr>\n",
       "      <th>2020-01-14</th>\n",
       "      <td>11.165790</td>\n",
       "    </tr>\n",
       "    <tr>\n",
       "      <th>2020-01-15</th>\n",
       "      <td>11.165790</td>\n",
       "    </tr>\n",
       "    <tr>\n",
       "      <th>2020-01-16</th>\n",
       "      <td>0.000000</td>\n",
       "    </tr>\n",
       "    <tr>\n",
       "      <th>2020-01-17</th>\n",
       "      <td>0.000000</td>\n",
       "    </tr>\n",
       "    <tr>\n",
       "      <th>2020-01-18</th>\n",
       "      <td>0.000000</td>\n",
       "    </tr>\n",
       "    <tr>\n",
       "      <th>2020-01-19</th>\n",
       "      <td>0.000000</td>\n",
       "    </tr>\n",
       "    <tr>\n",
       "      <th>2020-01-20</th>\n",
       "      <td>7.193990</td>\n",
       "    </tr>\n",
       "    <tr>\n",
       "      <th>2020-01-21</th>\n",
       "      <td>6.965512</td>\n",
       "    </tr>\n",
       "    <tr>\n",
       "      <th>2020-01-22</th>\n",
       "      <td>0.000000</td>\n",
       "    </tr>\n",
       "    <tr>\n",
       "      <th>2020-01-23</th>\n",
       "      <td>0.000000</td>\n",
       "    </tr>\n",
       "    <tr>\n",
       "      <th>2020-01-24</th>\n",
       "      <td>0.000000</td>\n",
       "    </tr>\n",
       "    <tr>\n",
       "      <th>2020-01-25</th>\n",
       "      <td>0.000000</td>\n",
       "    </tr>\n",
       "    <tr>\n",
       "      <th>2020-01-26</th>\n",
       "      <td>0.000000</td>\n",
       "    </tr>\n",
       "    <tr>\n",
       "      <th>2020-01-27</th>\n",
       "      <td>0.000000</td>\n",
       "    </tr>\n",
       "    <tr>\n",
       "      <th>2020-01-28</th>\n",
       "      <td>0.000000</td>\n",
       "    </tr>\n",
       "    <tr>\n",
       "      <th>2020-01-29</th>\n",
       "      <td>11.644282</td>\n",
       "    </tr>\n",
       "  </tbody>\n",
       "</table>\n",
       "</div>"
      ],
      "text/plain": [
       "                   PP\n",
       "Dates                \n",
       "2020-01-10   0.000000\n",
       "2020-01-11   0.000000\n",
       "2020-01-12  22.331579\n",
       "2020-01-13   0.000000\n",
       "2020-01-14  11.165790\n",
       "2020-01-15  11.165790\n",
       "2020-01-16   0.000000\n",
       "2020-01-17   0.000000\n",
       "2020-01-18   0.000000\n",
       "2020-01-19   0.000000\n",
       "2020-01-20   7.193990\n",
       "2020-01-21   6.965512\n",
       "2020-01-22   0.000000\n",
       "2020-01-23   0.000000\n",
       "2020-01-24   0.000000\n",
       "2020-01-25   0.000000\n",
       "2020-01-26   0.000000\n",
       "2020-01-27   0.000000\n",
       "2020-01-28   0.000000\n",
       "2020-01-29  11.644282"
      ]
     },
     "execution_count": 12,
     "metadata": {},
     "output_type": "execute_result"
    }
   ],
   "source": [
    "df.head(20)"
   ]
  },
  {
   "cell_type": "code",
   "execution_count": 33,
   "metadata": {},
   "outputs": [
    {
     "data": {
      "text/plain": [
       "PP    317.707454\n",
       "dtype: float64"
      ]
     },
     "execution_count": 33,
     "metadata": {},
     "output_type": "execute_result"
    }
   ],
   "source": [
    "df.sum()"
   ]
  },
  {
   "cell_type": "code",
   "execution_count": 32,
   "metadata": {},
   "outputs": [
    {
     "data": {
      "text/plain": [
       "<matplotlib.axes._subplots.AxesSubplot at 0x2dc78069438>"
      ]
     },
     "execution_count": 32,
     "metadata": {},
     "output_type": "execute_result"
    },
    {
     "data": {
      "image/png": "[encoded data removed]",
      "text/plain": [
       "<Figure size 1080x504 with 1 Axes>"
      ]
     },
     "metadata": {
      "needs_background": "light"
     },
     "output_type": "display_data"
    }
   ],
   "source": [
    "#df.plot(label='PP',markersize=8,marker='.', linestyle='-')\n",
    "df.plot(label='PP', kind='bar', figsize= (15,7))"
   ]
  },
  {
   "cell_type": "code",
   "execution_count": null,
   "metadata": {},
   "outputs": [],
   "source": []
  }
 ],
 "metadata": {
  "kernelspec": {
   "display_name": "Python 3",
   "language": "python",
   "name": "python3"
  },
  "language_info": {
   "codemirror_mode": {
    "name": "ipython",
    "version": 3
   },
   "file_extension": ".py",
   "mimetype": "text/x-python",
   "name": "python",
   "nbconvert_exporter": "python",
   "pygments_lexer": "ipython3",
   "version": "3.7.3"
  }
 },
 "nbformat": 4,
 "nbformat_minor": 4
}
